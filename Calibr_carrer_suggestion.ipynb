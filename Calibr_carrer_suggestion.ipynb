{
 "cells": [
  {
   "cell_type": "markdown",
   "id": "857fb265",
   "metadata": {},
   "source": [
    "# # Career and Industry Suggestion System"
   ]
  },
  {
   "cell_type": "markdown",
   "id": "597f800f",
   "metadata": {},
   "source": [
    "#This notebook helps suggest the best career domain and industry based on the user's work experience and skills.\n"
   ]
  },
  {
   "cell_type": "markdown",
   "id": "15169df9",
   "metadata": {},
   "source": [
    "# Import Libraries "
   ]
  },
  {
   "cell_type": "code",
   "execution_count": 54,
   "id": "e43ae884",
   "metadata": {},
   "outputs": [],
   "source": [
    "import csv\n",
    "import nltk\n",
    "from nltk.tokenize import word_tokenize\n",
    "from nltk.corpus import stopwords"
   ]
  },
  {
   "cell_type": "markdown",
   "id": "b0d4d3d7",
   "metadata": {},
   "source": [
    "Ensure necessary NLTK data files are downloaded"
   ]
  },
  {
   "cell_type": "code",
   "execution_count": null,
   "id": "c2b0fe5d",
   "metadata": {},
   "outputs": [],
   "source": [
    "# Ensure necessary NLTK data files are downloaded\n",
    "nltk.download('punkt')\n",
    "nltk.download('stopwords')"
   ]
  },
  {
   "cell_type": "markdown",
   "id": "75c34a8d",
   "metadata": {},
   "source": [
    "# ### Function to Read CSV into Dictionary"
   ]
  },
  {
   "cell_type": "code",
   "execution_count": null,
   "id": "2bde0de2",
   "metadata": {},
   "outputs": [],
   "source": [
    "def read_csv_to_dict(file_path):\n",
    "    \"\"\"\n",
    "    Reads a CSV file and converts it into a dictionary.\n",
    "    \n",
    "    Parameters:\n",
    "        file_path (str): The path to the CSV file.\n",
    "    \n",
    "    Returns:\n",
    "        dict: A dictionary with the first column as keys and the second column as a list of keywords.\n",
    "    \"\"\"\n",
    "    data_dict = {}\n",
    "    with open(file_path, 'r') as file:\n",
    "        reader = csv.reader(file)\n",
    "        next(reader)  # Skip the header row\n",
    "        for row in reader:\n",
    "            key = row[0]\n",
    "            keywords = row[1].split()\n",
    "            data_dict[key] = keywords\n",
    "    return data_dict\n"
   ]
  },
  {
   "cell_type": "markdown",
   "id": "625022ad",
   "metadata": {},
   "source": [
    "# ### Function to Tokenize and Filter Text"
   ]
  },
  {
   "cell_type": "code",
   "execution_count": null,
   "id": "bc8dfb6d",
   "metadata": {},
   "outputs": [],
   "source": [
    "def tokenize_and_filter(text):\n",
    "    \"\"\"\n",
    "    Tokenizes the input text and removes stopwords.\n",
    "    \n",
    "    Parameters:\n",
    "        text (str): The input text to tokenize.\n",
    "    \n",
    "    Returns:\n",
    "        list: A list of filtered tokens.\n",
    "    \"\"\"\n",
    "    # Tokenize the text\n",
    "    tokens = word_tokenize(text.lower())\n",
    "    \n",
    "    # Remove stopwords\n",
    "    stop_words = set(stopwords.words('english'))\n",
    "    filtered_tokens = [token for token in tokens if token not in stop_words]\n",
    "    \n",
    "    return filtered_tokens\n"
   ]
  },
  {
   "cell_type": "markdown",
   "id": "c99f2c22",
   "metadata": {},
   "source": [
    "# ### Function to Analyze Text"
   ]
  },
  {
   "cell_type": "code",
   "execution_count": null,
   "id": "a8c46e1b",
   "metadata": {},
   "outputs": [],
   "source": [
    "def analyze_text(tokens, categories):\n",
    "    \"\"\"\n",
    "    Analyzes tokens to compute scores for each category based on keyword matches.\n",
    "    \n",
    "    Parameters:\n",
    "        tokens (list): The list of tokens to analyze.\n",
    "        categories (dict): A dictionary with categories as keys and lists of keywords as values.\n",
    "    \n",
    "    Returns:\n",
    "        dict: A dictionary with categories as keys and scores as values.\n",
    "    \"\"\"\n",
    "    scores = {category: 0 for category in categories}\n",
    "    \n",
    "    for category, keywords in categories.items():\n",
    "        scores[category] = sum(token in tokens for token in keywords)\n",
    "    \n",
    "    return scores"
   ]
  },
  {
   "cell_type": "markdown",
   "id": "d70ab0d9",
   "metadata": {},
   "source": [
    "# ### Function to Suggest Career and Industry"
   ]
  },
  {
   "cell_type": "code",
   "execution_count": null,
   "id": "4fd42599",
   "metadata": {},
   "outputs": [],
   "source": [
    "def suggest_career_and_industry(user_text, work_exp, career_domains, industries):\n",
    "    \"\"\"\n",
    "    Suggests the best career domain and industry based on the user's input text and work experience.\n",
    "    \n",
    "    Parameters:\n",
    "        user_text (str): The user's input text describing their work experience and skills.\n",
    "        work_exp (dict): A dictionary with domains as keys and years of experience as values.\n",
    "        career_domains (dict): A dictionary of career domains and associated keywords.\n",
    "        industries (dict): A dictionary of industries and associated keywords.\n",
    "    \n",
    "    Returns:\n",
    "        tuple: The suggested career domain and industry.\n",
    "    \"\"\"\n",
    "    # Tokenize and filter user text\n",
    "    filtered_tokens = tokenize_and_filter(user_text)\n",
    "    \n",
    "    # Analyze text for career domains and industries\n",
    "    career_scores = analyze_text(filtered_tokens, career_domains)\n",
    "    industry_scores = analyze_text(filtered_tokens, industries)\n",
    "    \n",
    "    # Determine the best career and industry\n",
    "    best_career = max(career_scores, key=career_scores.get)\n",
    "    best_industry = max(industry_scores, key=industry_scores.get)\n",
    "    \n",
    "    # Adjust career suggestion based on work experience\n",
    "    if best_career == 'non-tech-enterprises':\n",
    "        for domain, experience in work_exp.items():\n",
    "            if domain == 'non-tech-enterprises' and experience >= 5:\n",
    "                best_career = 'entrepreneurship'\n",
    "                break\n",
    "    \n",
    "    return best_career, best_industry\n"
   ]
  },
  {
   "cell_type": "markdown",
   "id": "d4a63b19",
   "metadata": {},
   "source": [
    "# Main Function to Execute the Workflow"
   ]
  },
  {
   "cell_type": "code",
   "execution_count": 55,
   "id": "06523935",
   "metadata": {},
   "outputs": [
    {
     "name": "stdout",
     "output_type": "stream",
     "text": [
      "Enter your work experience and skills: agriculture\n",
      "Enter the number of domains you have worked in: 3\n",
      "Enter the 1 domain of work experience: agriculture\n",
      "Enter the number of years of work experience in 1 domain: 5\n",
      "Enter the 2 domain of work experience: bussiness\n",
      "Enter the number of years of work experience in 2 domain: 3\n",
      "Enter the 3 domain of work experience: marketing\n",
      "Enter the number of years of work experience in 3 domain: 3\n",
      "Based on your input, the suggested career option is: agritech\n",
      "The suggested industry is: advertising & marketing\n"
     ]
    }
   ],
   "source": [
    "def main():\n",
    "    # ### Load Data from CSV Files\n",
    "    career_domains = read_csv_to_dict('career_domains.csv')\n",
    "    industries = read_csv_to_dict('industries.csv')\n",
    "    \n",
    "    # ### Get User Input\n",
    "    user_text = input(\"Enter your work experience and skills: \")\n",
    "    num_domains = int(input(\"Enter the number of domains you have worked in: \"))\n",
    "    \n",
    "    work_exp = {}\n",
    "    for i in range(num_domains):\n",
    "        domain = input(f'Enter domain {i+1} of work experience: ')\n",
    "        experience = int(input(f\"Enter the number of years of work experience in domain {i+1}: \"))\n",
    "        work_exp[domain] = experience\n",
    "    \n",
    "    # ### Perform Analysis and Suggest Career Options\n",
    "    best_career, best_industry = suggest_career_and_industry(user_text, work_exp, career_domains, industries)\n",
    "    \n",
    "    # ### Print the Suggested Career Option and Industry\n",
    "    print(\"Based on your input, the suggested career option is:\", best_career)\n",
    "    print(\"The suggested industry is:\", best_industry)\n",
    "\n",
    "# ## Step 4: Execute the Main Function\n",
    "if __name__ == \"__main__\":\n",
    "    main()"
   ]
  }
 ],
 "metadata": {
  "kernelspec": {
   "display_name": "Python 3 (ipykernel)",
   "language": "python",
   "name": "python3"
  },
  "language_info": {
   "codemirror_mode": {
    "name": "ipython",
    "version": 3
   },
   "file_extension": ".py",
   "mimetype": "text/x-python",
   "name": "python",
   "nbconvert_exporter": "python",
   "pygments_lexer": "ipython3",
   "version": "3.11.4"
  }
 },
 "nbformat": 4,
 "nbformat_minor": 5
}
